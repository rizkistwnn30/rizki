{
  "nbformat": 4,
  "nbformat_minor": 0,
  "metadata": {
    "colab": {
      "name": "tugas13.ipynb",
      "provenance": [],
      "authorship_tag": "ABX9TyNTbyfdI/SPtL8a41JDNXg8",
      "include_colab_link": true
    },
    "kernelspec": {
      "name": "python3",
      "display_name": "Python 3"
    }
  },
  "cells": [
    {
      "cell_type": "markdown",
      "metadata": {
        "id": "view-in-github",
        "colab_type": "text"
      },
      "source": [
        "<a href=\"https://colab.research.google.com/github/rizkistwnn30/rizki/blob/main/tugas13.ipynb\" target=\"_parent\"><img src=\"https://colab.research.google.com/assets/colab-badge.svg\" alt=\"Open In Colab\"/></a>"
      ]
    },
    {
      "cell_type": "code",
      "metadata": {
        "id": "GCAkB1TqvvtY"
      },
      "source": [
        "import numpy as np\r\n",
        "import matplotlib.pyplot as plt"
      ],
      "execution_count": 1,
      "outputs": []
    },
    {
      "cell_type": "code",
      "metadata": {
        "id": "o3mfnn4qv0k1"
      },
      "source": [
        "def cos(frek,tipe,ht,hr,d):\r\n",
        "  #frek = frekuensi (MHz)\r\n",
        "  #tipe = urban, suburban, open\r\n",
        "  #ht = tinggi tower (meter)\r\n",
        "  #hr = tinggi user (meter)\r\n",
        "  #d = jarak (meter)\r\n",
        "    if frek in range(150,1501):\r\n",
        "        Ca=69.55\r\n",
        "        Cb=26.16\r\n",
        "    elif frek in range(1501,2001):\r\n",
        "        Ca=46.3\r\n",
        "        Cb=33.9\r\n",
        "    \r\n",
        "    if tipe=='urban' :\r\n",
        "        Cm=0\r\n",
        "    elif tipe=='suburban' :\r\n",
        "        Cm= -2*((np.log10((frek/28)**2))-5.4)\r\n",
        "    elif tipe=='open' :\r\n",
        "        Cm= -4.78*(np.log10(frek))+18.33*(np.log10(frek))-40.94\r\n",
        "    else :\r\n",
        "        Cm='tipe salah'\r\n",
        "    \r\n",
        "    ahr = (1.1*np.log10(frek)-0.7)*hr-(1.56*np.log10(frek)-1.8)\r\n",
        "    Lp = Ca+(Cb*np.log10(frek))-(13.83*np.log(ht))-ahr+((44.9-6.55*np.log10(ht))*np.log10(d))-Cm\r\n",
        "    \r\n",
        "    return Lp"
      ],
      "execution_count": 2,
      "outputs": []
    },
    {
      "cell_type": "code",
      "metadata": {
        "id": "NsA17rUWv5Us"
      },
      "source": [
        "f=1800 #MHz\r\n",
        "loc='urban'\r\n",
        "tower=80 #m\r\n",
        "user=1.5 #m\r\n",
        "dmin=200 #m\r\n",
        "dmax=700 #m\r\n",
        "N=200 #titik\r\n",
        "d=np.random.randint(dmin,dmax,N)\r\n"
      ],
      "execution_count": 3,
      "outputs": []
    },
    {
      "cell_type": "code",
      "metadata": {
        "colab": {
          "base_uri": "https://localhost:8080/"
        },
        "id": "RUwvqIejv7zs",
        "outputId": "6bc278b8-f505-49fd-e6f7-39b3f8f69746"
      },
      "source": [
        "print(d)"
      ],
      "execution_count": 4,
      "outputs": [
        {
          "output_type": "stream",
          "text": [
            "[582 496 643 225 401 217 443 215 262 607 676 330 233 372 686 475 429 600\n",
            " 334 206 565 531 328 517 295 459 225 200 234 472 398 287 404 312 548 502\n",
            " 495 556 504 244 432 374 586 568 303 586 243 286 296 280 661 336 643 582\n",
            " 395 315 533 492 344 537 370 479 254 374 588 243 643 239 280 513 240 346\n",
            " 267 538 643 266 556 231 436 525 597 697 550 309 238 272 398 626 659 291\n",
            " 653 621 370 688 200 536 500 504 490 602 525 675 538 620 408 292 421 214\n",
            " 491 358 662 360 544 298 559 645 578 634 419 251 214 684 321 318 602 662\n",
            " 531 404 341 231 441 408 440 663 553 562 279 552 527 647 692 299 443 551\n",
            " 358 312 613 321 429 665 618 202 491 590 645 219 527 543 332 234 620 443\n",
            " 422 415 596 328 253 217 388 541 658 378 522 242 508 687 383 318 246 657\n",
            " 578 472 596 321 393 674 566 407 591 245 654 473 291 260 550 578 449 455\n",
            " 657 228]\n"
          ],
          "name": "stdout"
        }
      ]
    },
    {
      "cell_type": "code",
      "metadata": {
        "id": "Wpl1_sauv9mN"
      },
      "source": [
        "LpUrban=cos(f,loc,tower,user,d)"
      ],
      "execution_count": 5,
      "outputs": []
    },
    {
      "cell_type": "code",
      "metadata": {
        "colab": {
          "base_uri": "https://localhost:8080/"
        },
        "id": "eoYTttJrv_VU",
        "outputId": "75705cfc-cf46-4ac4-9f30-cc1b68f30330"
      },
      "source": [
        "print(LpUrban)"
      ],
      "execution_count": 6,
      "outputs": [
        {
          "output_type": "stream",
          "text": [
            "[184.68695008 182.43463788 186.09098562 171.29981187 179.43969953\n",
            " 170.78984712 180.84280631 170.65941807 173.44435845 185.2793939\n",
            " 186.79597859 176.69473171 171.79195756 178.38227987 187.00282867\n",
            " 181.82525143 180.39045706 185.11600572 176.86444747 170.05706436\n",
            " 184.26936756 183.3951234  176.60910082 183.01875116 175.11542082\n",
            " 181.34259222 171.29981187 169.64069205 171.85228415 181.73600358\n",
            " 179.33392003 174.72814591 179.54469061 175.90464216 183.83902675\n",
            " 182.60401352 182.40620954 184.04317869 182.66002249 172.44175248\n",
            " 180.48861939 178.45780947 184.78343154 184.34396388 175.4923326\n",
            " 184.78343154 172.38390337 174.67897923 175.16309002 174.3803199\n",
            " 186.47989418 176.94854466 186.09098562 184.68695008 179.22734017\n",
            " 176.03943972 183.44807925 182.32057865 177.28000084 183.5533974\n",
            " 178.30634309 181.94337571 173.00754089 178.45780947 184.83142558\n",
            " 172.38390337 186.09098562 172.15010153 174.3803199  182.90934294\n",
            " 172.20891681 177.36166041 173.71064686 183.57960436 186.09098562\n",
            " 173.65779037 184.04317869 171.67052372 180.61844739 183.2350508\n",
            " 185.04539786 187.22690949 183.89034279 175.76854219 172.09103965\n",
            " 173.97199457 179.33392003 185.713554   186.43720858 174.92311425\n",
            " 186.30837014 185.60059238 178.30634309 187.04383667 169.64069205\n",
            " 183.52714159 182.54778096 182.66002249 182.26320082 185.16288176\n",
            " 183.2350508  186.77512553 183.57960436 185.57789095 179.6834724\n",
            " 174.97143758 180.12529653 170.59374784 182.29191895 177.84191957\n",
            " 186.50118857 177.92039464 183.73583041 175.2579472  184.11897926\n",
            " 186.13473173 184.58980323 185.89242926 180.05821908 172.84017768\n",
            " 170.59374784 186.96170094 176.30522567 176.17295956 185.16288176\n",
            " 186.50118857 183.3951234  179.54469061 177.15661694 171.67052372\n",
            " 180.77906757 179.6834724  180.74708972 186.52245082 183.96696802\n",
            " 184.19437411 174.32992186 183.94147257 183.2886107  186.17834241\n",
            " 187.12549625 175.30513732 180.84280631 183.91593088 177.84191957\n",
            " 175.90464216 185.41794817 176.30522567 180.39045706 186.56487928\n",
            " 185.53237803 169.78085477 182.29191895 184.87925665 186.13473173\n",
            " 170.91907957 183.2886107  183.70991276 176.77984519 171.85228415\n",
            " 185.57789095 180.84280631 180.15871585 179.92309826 185.02178304\n",
            " 176.60910082 172.9519738  170.78984712 178.97547226 183.65793397\n",
            " 186.41581717 178.60766448 183.15432715 172.32581571 182.77137672\n",
            " 187.0233476  178.79276882 176.17295956 172.55674281 186.39439323\n",
            " 184.58980323 181.73600358 185.02178304 176.30522567 179.15583628\n",
            " 186.75424156 184.29427692 179.64890493 184.90311142 172.49936498\n",
            " 186.32992522 181.76581574 174.92311425 173.3364174  183.89034279\n",
            " 184.58980323 181.03231012 181.21929832 186.39439323 171.48638728]\n"
          ],
          "name": "stdout"
        }
      ]
    },
    {
      "cell_type": "code",
      "metadata": {
        "id": "zvzj4po_wGhE"
      },
      "source": [
        "d_sort=d[np.argsort(d)]\r\n",
        "Urban_sort=LpUrban[np.argsort(d)]"
      ],
      "execution_count": 7,
      "outputs": []
    },
    {
      "cell_type": "code",
      "metadata": {
        "id": "2oPOuSVAwHi9"
      },
      "source": [
        "f=1800 #MHz\r\n",
        "loc='suburban'\r\n",
        "tower=80 #m\r\n",
        "user=1.5 #m\r\n",
        "dmin=200 #m\r\n",
        "dmax=700 #m\r\n",
        "N=200 #titik\r\n",
        "a=np.random.randint(dmin,dmax,N)"
      ],
      "execution_count": 8,
      "outputs": []
    },
    {
      "cell_type": "code",
      "metadata": {
        "colab": {
          "base_uri": "https://localhost:8080/"
        },
        "id": "MQ5aFMIuwK7V",
        "outputId": "73309307-5e4f-4a38-8617-c2f8962f7625"
      },
      "source": [
        "print(a)"
      ],
      "execution_count": 9,
      "outputs": [
        {
          "output_type": "stream",
          "text": [
            "[648 454 292 257 286 486 221 382 206 670 648 504 455 461 352 431 682 239\n",
            " 466 445 353 675 576 343 208 285 680 583 626 574 381 366 473 543 562 431\n",
            " 487 670 229 560 236 453 402 371 300 624 362 457 330 202 356 237 214 317\n",
            " 619 676 380 354 336 548 631 314 672 663 320 209 606 563 582 419 200 213\n",
            " 424 473 696 603 561 630 473 407 624 425 326 474 388 512 403 643 614 558\n",
            " 449 303 583 444 216 297 249 465 463 378 523 385 692 609 578 612 388 217\n",
            " 451 219 310 224 238 267 616 569 377 291 395 458 351 313 365 302 381 305\n",
            " 349 465 421 666 305 213 420 434 260 663 616 383 511 225 231 202 646 420\n",
            " 321 288 459 646 575 643 277 642 597 442 455 246 224 388 547 690 565 515\n",
            " 530 592 359 317 656 664 402 539 519 322 363 489 260 331 381 390 590 311\n",
            " 207 440 306 360 253 567 388 432 251 265 685 322 580 289 345 352 265 379\n",
            " 560 495]\n"
          ],
          "name": "stdout"
        }
      ]
    },
    {
      "cell_type": "code",
      "metadata": {
        "id": "o8aEk606wM6X"
      },
      "source": [
        "Lpsuburban=cos(f,loc,tower,user,a)"
      ],
      "execution_count": 10,
      "outputs": []
    },
    {
      "cell_type": "code",
      "metadata": {
        "colab": {
          "base_uri": "https://localhost:8080/"
        },
        "id": "Y8-clhh4wO7-",
        "outputId": "d6be46dc-06c8-4759-8147-9f76d01ac420"
      },
      "source": [
        "print(Lpsuburban)"
      ],
      "execution_count": 11,
      "outputs": [
        {
          "output_type": "stream",
          "text": [
            "[182.63255512 177.62076338 171.40389547 169.60539682 171.11143713\n",
            " 178.58019711 167.47959505 175.18839993 166.48952225 183.10285256\n",
            " 182.63255512 179.09248038 177.65175622 177.83629472 174.03629454\n",
            " 176.88843246 183.35291068 168.58255943 177.98825129 177.33871583\n",
            " 174.07625553 183.20758343 180.9734353  173.67145073 166.62562223\n",
            " 171.06209824 183.31154137 181.14359037 182.14601189 180.92443964\n",
            " 175.15147661 174.5856882  178.19827363 180.14237066 180.626832\n",
            " 176.88843246 178.60915136 183.10285256 167.98049183 180.57661363\n",
            " 168.40462564 177.58970221 175.90724148 174.77682055 171.78462777\n",
            " 182.10093589 174.43089283 177.71353806 173.12718961 166.21331267\n",
            " 174.19546276 168.46418699 167.02620574 172.56105131 181.98761076\n",
            " 183.22843649 175.11445625 174.11610347 173.38100255 180.27148464\n",
            " 182.25807483 172.42710827 183.14483839 182.95490872 172.69373271\n",
            " 166.69318225 181.68862633 180.65187421 181.11940798 176.49067697\n",
            " 166.07314994 166.96022792 176.65777546 178.19827363 183.63914306\n",
            " 181.61871931 180.6017452  182.23573345 178.19827363 176.08136282\n",
            " 182.10093589 176.69095861 172.95540409 178.22802283 175.40793015\n",
            " 179.31431548 175.94223836 182.52344351 181.87336652 180.52621559\n",
            " 177.46476802 171.9247905  181.14359037 177.30702575 167.15724145\n",
            " 171.64305635 169.15994507 177.95799083 177.8972742  175.04012237\n",
            " 179.61374436 175.2985927  183.55795415 181.75818814 181.02226113\n",
            " 181.82740812 175.40793015 167.22230502 177.52737362 167.35153746\n",
            " 172.24651301 167.66952473 168.52349755 170.14310475 181.91917547\n",
            " 180.80119968 175.00280781 171.35557214 175.65979807 177.74432766\n",
            " 173.99621987 172.38217605 174.54714854 171.87822438 175.15147661\n",
            " 172.01746345 173.91572687 177.95799083 176.55775442 183.01850358\n",
            " 172.01746345 166.96022792 176.52425562 176.98614086 169.7688753\n",
            " 182.95490872 181.91917547 175.22522671 179.28677639 167.73226976\n",
            " 168.10298162 166.21331267 182.58901184 176.52425562 172.73768357\n",
            " 171.20959946 177.77505011 182.58901184 180.94895877 182.52344351\n",
            " 170.66103948 182.50151941 181.47785576 177.24343089 177.65175622\n",
            " 168.98920071 167.66952473 175.40793015 180.24575635 183.51718353\n",
            " 180.70182546 179.39661116 179.80102853 181.35938376 174.31366965\n",
            " 172.56105131 182.80539456 182.97613892 175.90724148 180.03822055\n",
            " 179.50559614 172.78149772 174.46975144 178.66688192 169.7688753\n",
            " 173.16981063 175.15147661 175.48035312 181.31171455 172.29187935\n",
            " 166.55773661 177.17954762 172.06357228 174.35285253 169.3844317\n",
            " 180.7516002  175.40793015 176.92107729 169.27263557 170.0371927\n",
            " 183.41473772 172.78149772 181.0709183  171.25842529 173.75334769\n",
            " 174.03629454 170.0371927  175.07733835 180.57661363 178.83866743]\n"
          ],
          "name": "stdout"
        }
      ]
    },
    {
      "cell_type": "code",
      "metadata": {
        "id": "SGZ1RPjNwRX9"
      },
      "source": [
        "a_sort=a[np.argsort(a)]\r\n",
        "suburban_sort=Lpsuburban[np.argsort(a)]"
      ],
      "execution_count": 12,
      "outputs": []
    },
    {
      "cell_type": "code",
      "metadata": {
        "id": "W0kRNNd0wT6k"
      },
      "source": [
        "f=1800 #MHz\r\n",
        "loc='open'\r\n",
        "tower=80 #m\r\n",
        "user=1.5 #m\r\n",
        "dmin=200 #m\r\n",
        "dmax=700 #m\r\n",
        "N=200 #titik\r\n",
        "b=np.random.randint(dmin,dmax,N)"
      ],
      "execution_count": 13,
      "outputs": []
    },
    {
      "cell_type": "code",
      "metadata": {
        "colab": {
          "base_uri": "https://localhost:8080/"
        },
        "id": "uFOfLF9GwV9_",
        "outputId": "ba51867e-f4b0-4b5f-d28c-c4904664b6ec"
      },
      "source": [
        "print(b)"
      ],
      "execution_count": 14,
      "outputs": [
        {
          "output_type": "stream",
          "text": [
            "[547 270 635 453 619 537 254 621 644 259 629 327 517 430 431 491 622 219\n",
            " 524 353 334 496 619 488 489 411 647 654 610 218 282 253 465 546 416 663\n",
            " 381 543 467 503 276 423 244 323 381 444 231 462 681 651 439 393 479 320\n",
            " 647 489 594 334 357 251 402 689 286 564 464 399 319 499 493 593 268 423\n",
            " 253 309 372 625 216 405 318 580 587 552 263 200 446 226 486 583 464 692\n",
            " 454 308 406 584 622 216 594 640 458 691 465 618 571 236 516 533 686 272\n",
            " 372 351 666 212 570 249 656 569 338 519 531 250 246 336 441 497 673 538\n",
            " 689 523 517 677 388 624 612 509 431 417 326 499 643 387 381 300 676 573\n",
            " 401 576 633 412 637 555 230 496 585 639 238 462 601 206 548 386 678 327\n",
            " 392 699 508 311 536 600 595 248 428 374 201 570 345 475 690 453 567 303\n",
            " 230 240 453 566 231 520 641 261 216 638 574 405 609 264 473 490 626 697\n",
            " 321 371]\n"
          ],
          "name": "stdout"
        }
      ]
    },
    {
      "cell_type": "code",
      "metadata": {
        "id": "E6Dc64swwYuc"
      },
      "source": [
        "Lpopen=cos(f,loc,tower,user,b)"
      ],
      "execution_count": 15,
      "outputs": []
    },
    {
      "cell_type": "code",
      "metadata": {
        "colab": {
          "base_uri": "https://localhost:8080/"
        },
        "id": "wtBzRiu_wbXV",
        "outputId": "59940e27-9297-4058-9aa8-dc160ab20ebd"
      },
      "source": [
        "print(Lpopen)"
      ],
      "execution_count": 16,
      "outputs": [
        {
          "output_type": "stream",
          "text": [
            "[180.64435601 170.69909418 182.74568735 177.98830187 182.38621042\n",
            " 180.38445496 169.83859844 182.43164994 182.94393321 170.11319266\n",
            " 182.61195624 173.39714693 179.84980871 177.25431146 177.28703212\n",
            " 179.12297651 182.45431485 167.75013712 180.03925184 174.47485519\n",
            " 173.69550502 179.26569543 182.38621042 179.03664588 179.06548158\n",
            " 176.6177263  183.00939997 183.16098277 182.17989895 167.6856691\n",
            " 171.3116358  169.78303136 178.3565905  180.61858064 176.78805773\n",
            " 183.35350838 175.55007627 180.54097032 178.41704654 179.4631034\n",
            " 171.00869428 177.02311363 169.27281004 173.22377567 175.55007627\n",
            " 177.70562541 168.50158128 178.26541712 183.73084087 183.09621835\n",
            " 177.54609666 175.98689383 178.77443326 173.09233237 183.00939997\n",
            " 179.06548158 181.80549185 173.69550502 174.63357504 169.67123523\n",
            " 176.30584114 183.89535355 171.51003679 181.07547164 178.32626489\n",
            " 176.20032576 173.04824396 179.35063783 179.18023772 181.78175766\n",
            " 170.59436331 177.02311363 169.78303136 172.59959974 175.21333742\n",
            " 182.52209158 167.55584111 176.41057201 173.00401711 181.46951796\n",
            " 181.63850656 180.77253012 170.32907792 166.4717496  177.76893445\n",
            " 168.19333621 178.97879677 181.54219003 178.32626489 183.95655381\n",
            " 178.01936304 172.55393929 176.44530998 181.56633097 182.45431485\n",
            " 167.55584111 181.80549185 182.85616821 178.14292732 183.93618325\n",
            " 178.3565905  182.36343558 181.24922479 168.8032253  179.82253622\n",
            " 180.2791368  183.83388623 170.80305213 175.21333742 174.39481953\n",
            " 183.41710324 167.29253929 181.22453374 169.55854473 183.20399422\n",
            " 181.19979934 173.86320031 179.9041958  180.22618096 169.61500267\n",
            " 169.38780037 173.77960221 177.61012513 179.29406652 183.56438414\n",
            " 180.41066192 183.89535355 180.01234402 179.84980871 183.64785838\n",
            " 175.80652981 182.49953555 182.22600778 179.63013584 177.28703212\n",
            " 176.82187824 173.35400375 179.35063783 182.92204318 175.77017821\n",
            " 175.55007627 172.18322743 183.62703615 181.29847742 176.27075709\n",
            " 181.37203496 182.70125123 176.65195775 182.78998373 180.84887848\n",
            " 168.44046952 179.26569543 181.59043061 182.83414125 168.92209721\n",
            " 178.26541712 181.97052079 166.88812191 180.67008431 175.73373256\n",
            " 183.66864988 173.39714693 175.95100531 184.09832878 179.60243428\n",
            " 172.69047901 180.35819915 181.94706327 181.82918612 169.5018596\n",
            " 177.18864124 175.28886703 166.5420053  181.22453374 174.15194735\n",
            " 178.65630898 183.91578319 177.98830187 181.15019986 172.32339016\n",
            " 168.44046952 169.03997436 177.98830187 181.12533448 168.50158128\n",
            " 179.9313108  182.87816078 170.22154887 167.55584111 182.81207979\n",
            " 181.3230393  176.41057201 182.1567878  170.3825362  178.59687329\n",
            " 179.09425838 182.54461155 184.05796704 173.13628323 175.17542021]\n"
          ],
          "name": "stdout"
        }
      ]
    },
    {
      "cell_type": "code",
      "metadata": {
        "id": "kw-uue_qweT2"
      },
      "source": [
        "b_sort=b[np.argsort(b)]\r\n",
        "open_sort=Lpopen[np.argsort(b)]"
      ],
      "execution_count": 17,
      "outputs": []
    },
    {
      "cell_type": "code",
      "metadata": {
        "colab": {
          "base_uri": "https://localhost:8080/",
          "height": 295
        },
        "id": "fP1KbLKZwfWU",
        "outputId": "131558d1-14fc-443a-aaef-31ab8074e128"
      },
      "source": [
        "\r\n",
        "plt.figure()\r\n",
        "plt.plot(d_sort,Urban_sort, label='Urban')\r\n",
        "plt.plot(b_sort,open_sort, label='Open')\r\n",
        "plt.plot(a_sort,suburban_sort, label='Suburban')\r\n",
        "plt.legend()\r\n",
        "plt.title('FREKUENSI 1800 MHZ (GAMBAR CONTOH)')\r\n",
        "plt.xlabel('Jarak (m)')\r\n",
        "plt.ylabel('Path Loss (dB)')\r\n",
        "plt.show()"
      ],
      "execution_count": 18,
      "outputs": [
        {
          "output_type": "display_data",
          "data": {
            "image/png": "[encoded data removed]",
            "text/plain": [
              "<Figure size 432x288 with 1 Axes>"
            ]
          },
          "metadata": {
            "tags": [],
            "needs_background": "light"
          }
        }
      ]
    },
    {
      "cell_type": "code",
      "metadata": {
        "id": "z8kW_84FwiM1"
      },
      "source": [
        "\r\n",
        "f=1800 #MHz\r\n",
        "loc='urban'\r\n",
        "tower=80 #m\r\n",
        "user=1.5 #m\r\n",
        "dmin=200 #m\r\n",
        "dmax=700 #m\r\n",
        "N=200 #titik\r\n",
        "x=np.random.randint(dmin,dmax,N)"
      ],
      "execution_count": 19,
      "outputs": []
    },
    {
      "cell_type": "code",
      "metadata": {
        "colab": {
          "base_uri": "https://localhost:8080/"
        },
        "id": "W7_RTBqKwm64",
        "outputId": "fbd91c65-2bcc-4e90-92dd-f56e76755115"
      },
      "source": [
        "print(x)"
      ],
      "execution_count": 20,
      "outputs": [
        {
          "output_type": "stream",
          "text": [
            "[285 316 665 524 299 310 617 382 654 418 670 546 686 556 431 258 489 481\n",
            " 374 613 352 230 295 265 398 225 230 299 400 259 407 394 337 629 275 657\n",
            " 511 547 430 532 333 450 200 296 484 568 360 221 367 696 370 561 267 399\n",
            " 460 270 533 604 486 666 301 333 486 330 349 435 213 364 353 463 399 518\n",
            " 252 370 660 286 631 625 489 456 444 563 624 295 516 481 419 427 603 410\n",
            " 221 356 598 386 276 652 648 471 304 476 418 495 542 683 578 580 292 242\n",
            " 366 418 482 360 631 284 615 294 690 632 304 408 313 316 498 282 683 265\n",
            " 373 568 542 694 466 241 368 626 487 352 351 617 489 255 413 423 484 526\n",
            " 631 345 403 615 489 379 450 314 214 229 303 278 207 615 575 452 449 323\n",
            " 686 419 462 508 353 655 447 587 249 489 217 248 691 623 534 340 452 420\n",
            " 558 459 245 428 293 381 425 527 654 420 491 611 262 218 501 627 573 573\n",
            " 332 355]\n"
          ],
          "name": "stdout"
        }
      ]
    },
    {
      "cell_type": "code",
      "metadata": {
        "id": "KD6YJHGSwqNv"
      },
      "source": [
        "LpUrban1=cos(f,loc,tower,user,x)"
      ],
      "execution_count": 21,
      "outputs": []
    },
    {
      "cell_type": "code",
      "metadata": {
        "colab": {
          "base_uri": "https://localhost:8080/"
        },
        "id": "snXjDSGHwrve",
        "outputId": "c130e23b-756a-4a94-cc6e-cc3c90db98d1"
      },
      "source": [
        "print(LpUrban1)"
      ],
      "execution_count": 22,
      "outputs": [
        {
          "output_type": "stream",
          "text": [
            "[174.62964035 176.0840871  186.56487928 183.20819429 175.30513732\n",
            " 175.81405511 185.5095663  178.75594203 186.32992522 180.02456019\n",
            " 186.67039466 183.78752308 187.00282867 184.04317869 180.45597456\n",
            " 173.22764283 182.23442403 182.00206845 178.45780947 185.41794817\n",
            " 177.60383665 171.60941197 175.11542082 173.6047348  179.33392003\n",
            " 171.29981187 171.60941197 175.30513732 179.40452789 173.28213511\n",
            " 179.64890493 179.19163359 176.99040572 185.78089869 174.12650695\n",
            " 186.39439323 182.8543185  183.81329845 180.42325391 183.42162621\n",
            " 176.82220984 181.06364771 169.64069205 175.16309002 182.08965155\n",
            " 184.34396388 177.92039464 171.04713715 178.19166482 187.20668516\n",
            " 178.30634309 184.1692873  173.71064686 179.3692682  181.37324781\n",
            " 173.86803663 183.44807925 185.20960232 182.14773921 186.58604568\n",
            " 175.39904592 176.82220984 182.14773921 176.69473171 177.48326897\n",
            " 180.5861024  170.52777003 178.07604525 177.64379763 181.4648163\n",
            " 179.3692682  183.04597095 172.89618665 178.30634309 186.45856755\n",
            " 174.67897923 185.82561694 185.69103403 182.23442403 181.25022312\n",
            " 180.87456785 184.21941631 185.668478   175.11542082 182.99147866\n",
            " 182.00206845 180.05821908 180.3246334  185.18626141 179.75235389\n",
            " 171.04713715 177.76300487 185.06897316 178.902675   174.17763673\n",
            " 186.28678204 186.20009722 181.7061282  175.53874529 181.85487549\n",
            " 180.02456019 182.40620954 183.68394734 186.94109196 184.58980323\n",
            " 184.63846041 174.97143758 172.32581571 178.15323031 180.02456019\n",
            " 182.03132336 177.92039464 185.82561694 174.58012804 185.46383172\n",
            " 175.06758974 187.08472564 185.84792294 175.53874529 179.6834724\n",
            " 175.94971816 176.0840871  182.49132302 174.48057824 186.94109196\n",
            " 173.6047348  178.42009529 184.34396388 183.68394734 187.1661492\n",
            " 181.5557934  172.26748753 178.22999474 185.713554   182.17669346\n",
            " 177.60383665 177.56376198 185.5095663  182.23442403 173.06288963\n",
            " 179.85504867 180.19205607 182.08965155 183.26185621 185.82561694\n",
            " 177.3208898  179.50978046 185.46383172 182.23442403 178.64488045\n",
            " 181.06364771 175.99465037 170.59374784 171.54803393 175.4923326\n",
            " 174.27934286 170.12527872 185.46383172 184.51650088 181.12611449\n",
            " 181.03231012 176.39271811 187.00282867 180.05821908 181.43435956\n",
            " 182.77137672 177.64379763 186.35144736 180.96942503 184.807449\n",
            " 172.72748718 182.23442403 170.78984712 172.67080204 187.10512569\n",
            " 185.64588579 183.4744827  177.11524764 181.12611449 180.09179773\n",
            " 184.0937577  181.34259222 172.49936498 180.35758368 175.0195957\n",
            " 178.71901871 180.25850071 183.2886107  186.32992522 180.09179773\n",
            " 182.29191895 185.37191467 173.44435845 170.85461155 182.5759253\n",
            " 185.73603802 184.46741986 184.46741986 176.77984519 177.72338111]\n"
          ],
          "name": "stdout"
        }
      ]
    },
    {
      "cell_type": "code",
      "metadata": {
        "id": "8vLg4T9VwtQP"
      },
      "source": [
        "\r\n",
        "x_sort=x[np.argsort(x)]\r\n",
        "Urban_sort1=LpUrban1[np.argsort(x)]"
      ],
      "execution_count": 23,
      "outputs": []
    },
    {
      "cell_type": "code",
      "metadata": {
        "id": "D0iFmIB_wvZu"
      },
      "source": [
        "f=900 #MHz\r\n",
        "loc='urban'\r\n",
        "tower=80 #m\r\n",
        "user=1.5 #m\r\n",
        "dmin=200 #m\r\n",
        "dmax=700 #m\r\n",
        "N=200 #titik\r\n",
        "y=np.random.randint(dmin,dmax,N)"
      ],
      "execution_count": 24,
      "outputs": []
    },
    {
      "cell_type": "code",
      "metadata": {
        "colab": {
          "base_uri": "https://localhost:8080/"
        },
        "id": "TwVMWPmFwwGn",
        "outputId": "ed2db065-5b79-43b8-e5cb-40a04b5062d3"
      },
      "source": [
        "print(y)"
      ],
      "execution_count": 25,
      "outputs": [
        {
          "output_type": "stream",
          "text": [
            "[503 351 294 588 692 217 391 631 460 436 623 303 240 484 391 411 384 277\n",
            " 659 484 342 375 455 692 405 302 568 686 584 396 585 366 506 205 225 254\n",
            " 318 323 249 643 235 575 643 405 259 262 254 589 394 353 380 555 227 461\n",
            " 233 241 212 608 303 537 367 263 623 689 419 486 219 230 535 230 276 327\n",
            " 527 225 278 470 331 530 450 464 676 449 637 629 529 636 596 256 600 530\n",
            " 305 498 453 266 617 656 498 277 404 334 617 373 526 201 372 332 258 379\n",
            " 699 226 672 563 385 516 405 415 665 608 438 612 559 454 693 578 658 224\n",
            " 433 638 439 202 310 451 309 339 573 237 398 263 448 598 279 416 686 599\n",
            " 394 376 601 441 379 599 250 450 674 401 526 211 676 533 476 601 485 212\n",
            " 500 225 681 446 661 380 369 644 661 488 569 627 231 201 337 362 298 280\n",
            " 270 401 427 663 475 657 243 336 373 271 602 537 585 406 415 619 512 362\n",
            " 564 566]\n"
          ],
          "name": "stdout"
        }
      ]
    },
    {
      "cell_type": "code",
      "metadata": {
        "id": "JnnGWNoXwxtO"
      },
      "source": [
        "LpUrban2=cos(f,loc,tower,user,y)"
      ],
      "execution_count": 26,
      "outputs": []
    },
    {
      "cell_type": "code",
      "metadata": {
        "colab": {
          "base_uri": "https://localhost:8080/"
        },
        "id": "Jr1WncQhwzYX",
        "outputId": "81d1a579-83a9-4cfc-9109-51cafba597b9"
      },
      "source": [
        "\r\n",
        "print(LpUrban2)"
      ],
      "execution_count": 27,
      "outputs": [
        {
          "output_type": "stream",
          "text": [
            "[172.83838466 167.7701008  165.27392857 175.0377644  177.33183507\n",
            " 160.99618595 169.29030638 176.03195576 171.57958663 170.82478621\n",
            " 175.85222462 165.69867142 162.41525563 172.29599038 169.29030638\n",
            " 169.99300756 169.0358384  164.43492041 176.6435474  172.29599038\n",
            " 167.40420393 168.70176177 171.42563715 177.33183507 169.78585328\n",
            " 165.65210531 174.5503027  177.2091675  174.94161224 169.46929529\n",
            " 174.96571188 168.35956913 172.92214846 160.19485688 161.50615069\n",
            " 163.21387971 166.37929838 166.59905694 162.933826   176.29732444\n",
            " 162.11869231 174.7228397  176.29732444 169.78585328 163.48847393\n",
            " 163.65069727 163.21387971 175.06170024 169.39797242 167.85013646\n",
            " 168.88833718 174.22415975 161.63080847 171.61017565 161.99829638\n",
            " 162.47382635 160.66782055 175.50891995 165.69867142 173.75973622\n",
            " 168.39800364 163.70435919 175.85222462 177.27063481 170.2645579\n",
            " 172.35407804 161.12541839 161.81575079 173.70717558 161.81575079\n",
            " 164.38397555 166.7724282  173.49494953 161.50615069 164.48568168\n",
            " 171.88252815 166.94369156 173.57490946 171.26998653 171.70154616\n",
            " 177.00231742 171.23864895 176.165265   175.98723751 173.54830655\n",
            " 176.14313422 175.22812186 163.32436057 175.32234454 173.57490946\n",
            " 165.79134437 172.69766184 171.36358314 163.8641292  175.71590512\n",
            " 176.57927549 172.69766184 164.43492041 169.75102943 167.07078629\n",
            " 175.71590512 168.62643412 173.46819503 159.91728657 168.58861869\n",
            " 166.98618401 163.43398165 168.85121927 177.47361005 161.56861748\n",
            " 176.91871932 174.42575514 169.07247363 173.19781749 169.78585328\n",
            " 170.12943708 176.7712181  175.50891995 170.88925423 175.60128905\n",
            " 174.32531808 171.39464431 177.35217621 174.79614206 176.622156\n",
            " 161.44340565 170.72752757 176.18736106 170.92137793 159.9871936\n",
            " 166.02039393 171.30125455 165.97488101 167.28009531 174.67375868\n",
            " 162.23806792 169.54025886 163.70435919 171.20724149 175.27531198\n",
            " 164.53626068 170.16333899 177.2091675  175.29884789 169.39797242\n",
            " 168.73927508 175.34580206 170.9854064  168.85121927 175.29884789\n",
            " 162.99028394 171.26998653 176.96058038 169.64603836 173.46819503\n",
            " 160.60121883 177.00231742 173.65441807 172.06121432 175.34580206\n",
            " 172.32506415 160.66782055 172.75411978 161.50615069 177.10612214\n",
            " 171.14421572 176.686233   168.88833718 168.47455947 176.31921448\n",
            " 176.686233   172.41192714 174.57508061 175.94237684 161.87686255\n",
            " 159.91728657 167.19674455 168.20477376 165.46428602 164.58665872\n",
            " 164.07437545 169.64603836 170.53097223 176.72878965 172.03159025\n",
            " 176.60073206 162.5902422  167.15488348 168.62643412 164.12645032\n",
            " 175.36922058 173.75973622 174.96571188 169.82059124 170.12943708\n",
            " 175.76149169 173.08819641 168.20477376 174.4507529  174.50061574]\n"
          ],
          "name": "stdout"
        }
      ]
    },
    {
      "cell_type": "code",
      "metadata": {
        "id": "pzzuzt0Lw0-v"
      },
      "source": [
        "y_sort=y[np.argsort(y)]\r\n",
        "Urban_sort2=LpUrban2[np.argsort(y)]"
      ],
      "execution_count": 28,
      "outputs": []
    },
    {
      "cell_type": "code",
      "metadata": {
        "id": "m_dGmTl0w3b-"
      },
      "source": [
        "\r\n",
        "f=700 #MHz\r\n",
        "loc='urban'\r\n",
        "tower=80 #m\r\n",
        "user=1.5 #m\r\n",
        "dmin=200 #m\r\n",
        "dmax=700 #m\r\n",
        "N=200 #titik\r\n",
        "z=np.random.randint(dmin,dmax,N)"
      ],
      "execution_count": 29,
      "outputs": []
    },
    {
      "cell_type": "code",
      "metadata": {
        "colab": {
          "base_uri": "https://localhost:8080/"
        },
        "id": "dzRNGDAhw6H2",
        "outputId": "14000f22-9ac8-4292-9c42-449298c9ecc5"
      },
      "source": [
        "\r\n",
        "print(z)"
      ],
      "execution_count": 30,
      "outputs": [
        {
          "output_type": "stream",
          "text": [
            "[403 622 503 518 244 564 624 389 584 693 307 264 549 304 699 356 521 285\n",
            " 342 402 532 655 451 294 570 427 430 604 432 437 616 220 277 415 356 659\n",
            " 639 280 330 393 690 376 544 559 256 255 486 636 305 550 307 675 582 284\n",
            " 699 270 396 606 216 543 534 379 206 668 429 464 357 608 578 316 480 415\n",
            " 276 219 246 662 520 204 290 522 607 651 215 616 225 550 462 472 211 335\n",
            " 387 302 256 554 527 202 366 676 596 468 681 414 322 591 299 454 620 459\n",
            " 533 550 208 522 540 603 672 287 364 466 680 422 370 467 426 477 514 666\n",
            " 262 527 418 476 207 358 438 540 250 484 644 664 433 281 394 517 618 297\n",
            " 438 487 273 274 243 290 408 270 657 454 243 557 552 487 553 260 373 345\n",
            " 456 616 275 221 670 567 614 252 609 342 207 376 618 633 615 241 333 419\n",
            " 414 654 590 618 447 202 410 501 225 333 382 276 588 331 322 661 477 664\n",
            " 291 596]\n"
          ],
          "name": "stdout"
        }
      ]
    },
    {
      "cell_type": "code",
      "metadata": {
        "id": "rmXKwG2xw7x-"
      },
      "source": [
        "LpUrban3=cos(f,loc,tower,user,z)"
      ],
      "execution_count": 31,
      "outputs": []
    },
    {
      "cell_type": "code",
      "metadata": {
        "colab": {
          "base_uri": "https://localhost:8080/"
        },
        "id": "l_kEEmTqw8km",
        "outputId": "839e7efe-6118-4731-881c-5c08c97070f0"
      },
      "source": [
        "print(LpUrban3)"
      ],
      "execution_count": 32,
      "outputs": [
        {
          "output_type": "stream",
          "text": [
            "[166.87072297 172.9841998  169.99298835 170.40691345 159.80269499\n",
            " 171.60535659 173.0294205  166.37267279 172.09621592 174.5067799\n",
            " 163.0380153  160.91242115 171.22565064 162.89968779 174.62821373\n",
            " 165.12394737 170.48825865 161.99058285 164.55880761 166.83572609\n",
            " 170.78256872 173.71238986 168.45585823 162.42853225 171.75441869\n",
            " 167.68557591 167.78419641 172.57054483 167.8495619  168.01166078\n",
            " 172.84766008 158.34419639 161.58952409 167.28404076 165.12394737\n",
            " 173.79815109 173.3640262  161.74126241 164.05567422 166.51677878\n",
            " 174.44566814 165.89387876 171.09677291 171.47992176 160.47896425\n",
            " 160.42383214 169.50868172 173.2977379  162.94594806 171.2512853\n",
            " 163.0380153  174.13606804 172.04789259 161.94107054 174.62821373\n",
            " 161.22897913 166.62389897 172.61711095 158.08572606 171.07085527\n",
            " 170.8354252  166.00582296 157.41800686 173.98922581 167.75139957\n",
            " 168.85614984 165.16345999 172.66352363 171.95074574 163.44502961\n",
            " 169.33369515 167.28404076 161.53857923 158.28002207 159.91768532\n",
            " 173.86213108 170.46119575 157.28057907 162.23556707 170.51526966\n",
            " 172.6403364  173.6261033  158.02036057 172.84766008 158.66075437\n",
            " 171.2512853  168.79530207 169.09694609 157.75582252 164.26750133\n",
            " 166.30006316 162.80670899 160.47896425 171.35335993 170.64955321\n",
            " 157.14179728 165.51417282 174.1569211  172.38272555 168.97706249\n",
            " 174.26072582 167.25005706 163.70998233 172.26405393 162.66607983\n",
            " 168.54924799 172.93883345 168.70353472 170.80902175 171.2512853\n",
            " 157.55410684 170.51526966 170.99281497 172.54720392 174.073323\n",
            " 162.08908841 165.43698776 168.9167359  174.24002598 167.51965835\n",
            " 165.6672856  168.94693149 167.65254837 169.24537989 170.29771727\n",
            " 173.94698819 160.80530095 170.64955321 167.3855027  169.215818\n",
            " 157.48622122 165.20286208 168.04385791 170.99281497 160.14488762\n",
            " 169.45059406 173.47381816 173.90462353 167.88213125 161.79148078\n",
            " 166.5525761  170.37969366 172.89332053 162.57154096 168.04385791\n",
            " 169.53763597 161.38462975 161.43613342 159.74484588 162.23556707\n",
            " 167.0444149  161.22897913 173.75533574 168.54924799 159.74484588\n",
            " 171.4294334  171.30241507 169.53763597 171.32791053 160.69735991\n",
            " 165.7810378  164.6818323  168.61116562 172.84766008 161.48744946\n",
            " 158.40807966 174.03133717 171.68008481 172.80185113 160.25712916\n",
            " 172.68667275 164.55880761 157.48622122 165.89387876 172.89332053\n",
            " 173.23113618 172.82477423 159.62843003 164.18315235 167.41916158\n",
            " 167.25005706 173.69086772 172.24019916 172.89332053 168.33036754\n",
            " 157.14179728 167.1132964  169.9368678  158.66075437 164.18315235\n",
            " 166.11688454 161.53857923 172.19236809 164.09829524 163.70998233\n",
            " 173.84083669 169.24537989 173.90462353 162.28405675 172.38272555]\n"
          ],
          "name": "stdout"
        }
      ]
    },
    {
      "cell_type": "code",
      "metadata": {
        "id": "f604OAKaw-Dv"
      },
      "source": [
        "z_sort=z[np.argsort(z)]\r\n",
        "Urban_sort3=LpUrban3[np.argsort(z)]"
      ],
      "execution_count": 33,
      "outputs": []
    },
    {
      "cell_type": "code",
      "metadata": {
        "colab": {
          "base_uri": "https://localhost:8080/",
          "height": 295
        },
        "id": "_CH-gOo6xR9Y",
        "outputId": "f562b95f-bc5a-42fd-d9fb-f32db6454644"
      },
      "source": [
        "plt.figure()\r\n",
        "plt.plot(x_sort,Urban_sort1,'g', label='1800 Mhz')\r\n",
        "plt.plot(y_sort,Urban_sort2,'y', label='900 Mhz')\r\n",
        "plt.plot(z_sort,Urban_sort3,'c', label='700 Mhz')\r\n",
        "plt.legend()\r\n",
        "plt.title('Model Urban (GAMBAR CONTOH)')\r\n",
        "plt.xlabel('Jarak (m)')\r\n",
        "plt.ylabel('Path Loss (dB)')\r\n",
        "plt.show()"
      ],
      "execution_count": 37,
      "outputs": [
        {
          "output_type": "display_data",
          "data": {
            "image/png": "[encoded data removed]",
            "text/plain": [
              "<Figure size 432x288 with 1 Axes>"
            ]
          },
          "metadata": {
            "tags": [],
            "needs_background": "light"
          }
        }
      ]
    }
  ]
}
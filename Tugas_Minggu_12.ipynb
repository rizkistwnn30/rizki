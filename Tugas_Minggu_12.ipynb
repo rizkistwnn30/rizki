{
  "nbformat": 4,
  "nbformat_minor": 0,
  "metadata": {
    "colab": {
      "name": "Tugas Minggu 12.ipynb",
      "provenance": [],
      "collapsed_sections": [],
      "authorship_tag": "ABX9TyNB4vk/268R6ZfUCuX0TsS3",
      "include_colab_link": true
    },
    "kernelspec": {
      "name": "python3",
      "display_name": "Python 3"
    }
  },
  "cells": [
    {
      "cell_type": "markdown",
      "metadata": {
        "id": "view-in-github",
        "colab_type": "text"
      },
      "source": [
        "<a href=\"https://colab.research.google.com/github/rizkistwnn30/rizki/blob/main/Tugas_Minggu_12.ipynb\" target=\"_parent\"><img src=\"https://colab.research.google.com/assets/colab-badge.svg\" alt=\"Open In Colab\"/></a>"
      ]
    },
    {
      "cell_type": "code",
      "metadata": {
        "id": "R6JRCKB9Re_u"
      },
      "source": [
        "import numpy as RizkiSetiawan"
      ],
      "execution_count": 1,
      "outputs": []
    },
    {
      "cell_type": "code",
      "metadata": {
        "id": "hi7ltinDRr8g"
      },
      "source": [
        "#c1_value = fc\r\n",
        "def c1(c1_value) :\r\n",
        "  if c1_value in range(400,1500) :\r\n",
        "    return 69.55\r\n",
        "  elif c1_value in range(1500,2000) :\r\n",
        "    return 46.3\r\n",
        "  else : return 0"
      ],
      "execution_count": 2,
      "outputs": []
    },
    {
      "cell_type": "code",
      "metadata": {
        "id": "DuFG_iFhRyd7"
      },
      "source": [
        "#c2_value = fc\r\n",
        "def c2(c2_value):\r\n",
        "  if c2_value in range(400,1500):\r\n",
        "    return 26.16\r\n",
        "  elif c2_value in range(1500,2000):\r\n",
        "    return 33.9\r\n",
        "  else: return 0"
      ],
      "execution_count": 3,
      "outputs": []
    },
    {
      "cell_type": "code",
      "metadata": {
        "id": "AjQuEvIXR6ZI"
      },
      "source": [
        "def ahr(fc,hr):\r\n",
        "  x=(1.1*RizkiSetiawan.log10(fc)-0.7)*hr-(1.56*RizkiSetiawan.log10(fc)-0.8)\r\n",
        "  return x"
      ],
      "execution_count": 4,
      "outputs": []
    },
    {
      "cell_type": "code",
      "metadata": {
        "id": "SUm5ISmaSVS5"
      },
      "source": [
        "#suburban\r\n",
        "SbN = lambda x: -2*RizkiSetiawan.log10(x/28)*RizkiSetiawan.log10(x/28)-5.4"
      ],
      "execution_count": 5,
      "outputs": []
    },
    {
      "cell_type": "code",
      "metadata": {
        "id": "KAe02m7bScVe"
      },
      "source": [
        "#open\r\n",
        "Op = lambda x: -4.78*RizkiSetiawan.log10(x)*RizkiSetiawan.log10(x)+18.33*RizkiSetiawan.log10(x)-40.94"
      ],
      "execution_count": 6,
      "outputs": []
    },
    {
      "cell_type": "code",
      "metadata": {
        "id": "yxWDBehESjs_"
      },
      "source": [
        "def Ptl(fc,hT,hr,d,Cm):\r\n",
        "  #mencari nilai c1 dari frekuensi\r\n",
        "  C1=c1(fc)\r\n",
        "  #mencari nilai c2 dari frekuensi\r\n",
        "  C2=c2(fc)\r\n",
        "  #mencari nilai a(hR)\r\n",
        "  ahR=ahr(fc,hr)\r\n",
        "\r\n",
        "  #rumus cost 231 pathloss model\r\n",
        "  Lp=C1+C2*RizkiSetiawan.log10(fc)-13.83*RizkiSetiawan.log10(hT)-ahR+(44.9-6.55*RizkiSetiawan.log10(hT))*RizkiSetiawan.log10(d)+Cm\r\n",
        "  print(Lp)\r\n",
        "  return Lp"
      ],
      "execution_count": 6,
      "outputs": []
    },
    {
      "cell_type": "code",
      "metadata": {
        "colab": {
          "base_uri": "https://localhost:8080/"
        },
        "id": "m9bmYG0kSzU2",
        "outputId": "a7935d08-a879-494e-b181-bbcaaeb14195"
      },
      "source": [
        "fc=int(input(\"Frekuensi (150 s.d 2000): \"))    #Mhz 150 s.d 2000\r\n",
        "hT=int(input(\"Tinggi Antena Pengirim (30 s.d 200): \"))     #meter 30 s.d 200\r\n",
        "hr=int(input(\"Tinggi Antena Penerima (1 s.d 30): \"))     #meter 1 s.d 30 \r\n",
        "d=int(input(\"Jarak : \"))      #Km\r\n",
        "# 1=urban   2=suburban    3=open\r\n",
        "area=int(input(\"Masukkan Area (1=Urban || 2=Suburban || 3=Open) : \"))    \r\n",
        "\r\n",
        "#mendapatkan nilai Cm berdasarkan area\r\n",
        "if area==1:\r\n",
        "  Cm=0\r\n",
        "elif area==2:\r\n",
        "  Cm=SbN(fc)\r\n",
        "elif area==3:\r\n",
        "  Cm=Op(fc)\r\n",
        "else: print(\"Tidak Ada Pilihan\")\r\n",
        "\r\n",
        "#menghitung pathloss\r\n",
        "Lp=Ptl(fc, hT, hr, d, Cm)\r\n",
        "print(\"Nilai Pathloss dalam dB =\", Lp,\"dB\")"
      ],
      "execution_count": null,
      "outputs": [
        {
          "output_type": "stream",
          "text": [
            "Frekuensi (150 s.d 2000): 1600\n",
            "Tinggi Antena Pengirim (30 s.d 200): 59\n",
            "Tinggi Antena Penerima (1 s.d 30): 58\n",
            "Jarak : 23\n"
          ],
          "name": "stdout"
        }
      ]
    }
  ]
}